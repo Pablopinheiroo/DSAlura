{
  "nbformat": 4,
  "nbformat_minor": 0,
  "metadata": {
    "colab": {
      "provenance": [],
      "authorship_tag": "ABX9TyPn1HG40ZEOOA89d6FzWaIi",
      "include_colab_link": true
    },
    "kernelspec": {
      "name": "python3",
      "display_name": "Python 3"
    },
    "language_info": {
      "name": "python"
    }
  },
  "cells": [
    {
      "cell_type": "markdown",
      "metadata": {
        "id": "view-in-github",
        "colab_type": "text"
      },
      "source": [
        "<a href=\"https://colab.research.google.com/github/Pablopinheiroo/DataScience_Alura/blob/main/Python%20para%20Data%20Science/01_Fun%C3%A7%C3%B5es_e_Linguagem_de_Alto_N%C3%ADvel.ipynb\" target=\"_parent\"><img src=\"https://colab.research.google.com/assets/colab-badge.svg\" alt=\"Open In Colab\"/></a>"
      ]
    },
    {
      "cell_type": "code",
      "source": [
        "from google.colab import drive\n",
        "drive.mount('/content/drive')"
      ],
      "metadata": {
        "colab": {
          "base_uri": "https://localhost:8080/"
        },
        "id": "CxYngeptmZHP",
        "outputId": "267332c4-8b2f-4328-a867-796d8fd9eecb"
      },
      "execution_count": null,
      "outputs": [
        {
          "output_type": "stream",
          "name": "stdout",
          "text": [
            "Mounted at /content/drive\n"
          ]
        }
      ]
    },
    {
      "cell_type": "markdown",
      "source": [
        "# 01 - Função e Linguagem de Alto Nível"
      ],
      "metadata": {
        "id": "RzTWdIv5pSgA"
      }
    },
    {
      "cell_type": "markdown",
      "source": [
        "## Lógica de programação **com** Python"
      ],
      "metadata": {
        "id": "nIjtAs-QnEx0"
      }
    },
    {
      "cell_type": "code",
      "execution_count": null,
      "metadata": {
        "colab": {
          "base_uri": "https://localhost:8080/"
        },
        "id": "cLNcM5pgmR9E",
        "outputId": "031a3a30-8a05-4409-bae1-3c87ce0b19c9"
      },
      "outputs": [
        {
          "output_type": "execute_result",
          "data": {
            "text/plain": [
              "2"
            ]
          },
          "metadata": {},
          "execution_count": 2
        }
      ],
      "source": [
        "1+1"
      ]
    },
    {
      "cell_type": "code",
      "source": [
        "\"Guilherme\""
      ],
      "metadata": {
        "colab": {
          "base_uri": "https://localhost:8080/",
          "height": 35
        },
        "id": "o4eA4nwInMQ2",
        "outputId": "d6d6fc77-978c-4809-9f42-8a6b71bfcfbd"
      },
      "execution_count": null,
      "outputs": [
        {
          "output_type": "execute_result",
          "data": {
            "text/plain": [
              "'Guilherme'"
            ],
            "application/vnd.google.colaboratory.intrinsic+json": {
              "type": "string"
            }
          },
          "metadata": {},
          "execution_count": 3
        }
      ]
    },
    {
      "cell_type": "code",
      "source": [
        "nome = 'Guilherme'\n",
        "nome"
      ],
      "metadata": {
        "colab": {
          "base_uri": "https://localhost:8080/",
          "height": 35
        },
        "id": "KvwCTm7MnO1T",
        "outputId": "72f7eea2-7b93-4947-bb59-056ea9ae0d5e"
      },
      "execution_count": null,
      "outputs": [
        {
          "output_type": "execute_result",
          "data": {
            "text/plain": [
              "'Guilherme'"
            ],
            "application/vnd.google.colaboratory.intrinsic+json": {
              "type": "string"
            }
          },
          "metadata": {},
          "execution_count": 5
        }
      ]
    },
    {
      "cell_type": "code",
      "source": [
        "idade = 28\n",
        "idade"
      ],
      "metadata": {
        "colab": {
          "base_uri": "https://localhost:8080/"
        },
        "id": "6fMYD1rDnRUz",
        "outputId": "fd599ef6-c772-4c7c-87cb-4f666aff64c5"
      },
      "execution_count": null,
      "outputs": [
        {
          "output_type": "execute_result",
          "data": {
            "text/plain": [
              "28"
            ]
          },
          "metadata": {},
          "execution_count": 6
        }
      ]
    },
    {
      "cell_type": "code",
      "source": [
        "print(f'O nome é {nome} e sua idade é {idade} anos')"
      ],
      "metadata": {
        "colab": {
          "base_uri": "https://localhost:8080/"
        },
        "id": "VaDj-LH1nY40",
        "outputId": "3dff994d-10c8-4842-dcaf-ace1f5c1a1ba"
      },
      "execution_count": null,
      "outputs": [
        {
          "output_type": "stream",
          "name": "stdout",
          "text": [
            "O nome é Guilherme e sua idade é 28 anos\n"
          ]
        }
      ]
    },
    {
      "cell_type": "code",
      "source": [],
      "metadata": {
        "id": "lBz_78T0nwJX"
      },
      "execution_count": null,
      "outputs": []
    },
    {
      "cell_type": "markdown",
      "source": [
        "## Criando minha primeira função"
      ],
      "metadata": {
        "id": "ngHUhGSNn3Sx"
      }
    },
    {
      "cell_type": "code",
      "source": [
        "def saudacao():\n",
        "  nome = input('Qual é o seu nome? ')\n",
        "  print(f'Olá {nome}')"
      ],
      "metadata": {
        "id": "pyODTg-Zn6L0"
      },
      "execution_count": null,
      "outputs": []
    },
    {
      "cell_type": "code",
      "source": [
        "saudacao()"
      ],
      "metadata": {
        "colab": {
          "base_uri": "https://localhost:8080/"
        },
        "id": "br6l6SakoXkm",
        "outputId": "19adb82e-efb4-48c1-e0ce-36ca27281c55"
      },
      "execution_count": null,
      "outputs": [
        {
          "output_type": "stream",
          "name": "stdout",
          "text": [
            "Qual é o seu nome? emilio\n",
            "Olá emilio\n"
          ]
        }
      ]
    },
    {
      "cell_type": "code",
      "source": [
        "\"\"\"\n",
        "Nesta aula:\n",
        "Aprendemos o que são variáveis\n",
        "Criamos nossa primeira função;\n",
        "Entendemos a diferença entre linguagens de alto e baixo nível.\n",
        "\"\"\""
      ],
      "metadata": {
        "id": "pGG1nfO_oZzD"
      },
      "execution_count": null,
      "outputs": []
    }
  ]
}